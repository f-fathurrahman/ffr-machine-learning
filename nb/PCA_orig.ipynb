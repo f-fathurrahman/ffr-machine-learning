{
 "cells": [
  {
   "cell_type": "markdown",
   "metadata": {},
   "source": [
    "<h1 style=\"text-align: center;\">Principal component analysis</h1>"
   ]
  },
  {
   "cell_type": "markdown",
   "metadata": {
    "heading_collapsed": true
   },
   "source": [
    "# Teori"
   ]
  },
  {
   "cell_type": "markdown",
   "metadata": {
    "hidden": true
   },
   "source": [
    "Akan dilakukan proyeksi dari data berdimensi $M$ menjadi berdimensi $D$.\n",
    "\n",
    "PCA akan mendefinisikan $D$ vektor, $\\mathbf{w}_{d}$, masing-masing berdimensi $M$. Elemen ke $d$ dari proyeksi $x_{nd}$ di mana $\\mathbf{x}_{nd} = [ x_{n1}, x_{n2}, \\ldots, x_{nD} ]^{\\mathrm{T}}$ dihitung sebagai:\n",
    "\n",
    "$$\n",
    "x_{nd} = \\mathbf{w}^{\\mathrm{T}}_{d} \\mathbf{y}_{n}\n",
    "$$\n"
   ]
  },
  {
   "cell_type": "markdown",
   "metadata": {
    "hidden": true
   },
   "source": [
    "Proses pembelajaran dalam hal ini adalah berapa dimensi $D$ dan memilih vektor proyeksi $\\mathbf{w}_{d}$ untuk setiap dimensi."
   ]
  },
  {
   "cell_type": "markdown",
   "metadata": {
    "hidden": true
   },
   "source": [
    "PCA menggunakan variansi pada ruang yang diproyeksikan sebagai kriteria untuk memilih $\\mathbf{w}_{d}$.\n",
    "\n",
    "Misalnya: $\\mathbf{w}_{1}$ adalah proyeksi yang akan membuat variansi pada $x_{n1}$ semaksimal mungkin.\n",
    "\n",
    "Dimensi proyeksi kedua juga dipilih untuk memaksimalkan variansi, namum $\\mathbf{w}_{2}$ harus ortogonal terhadap $\\mathbf{w}_{1}$:\n",
    "$$\n",
    "\\mathbf{w}_{1}^{\\mathrm{T}} \\mathbf{w}_{1} = 0\n",
    "$$\n",
    "\n",
    "Begitu juga untuk dimensi proyeksi yang ketiga dan seterusnya.\n",
    "\n",
    "Secara umum:\n",
    "$$\n",
    "\\mathbf{w}_{i}^{\\mathrm{T}} \\mathbf{w}_{j} = 0 \\, \\forall\\, j \\neq i\n",
    "$$"
   ]
  },
  {
   "cell_type": "markdown",
   "metadata": {
    "hidden": true
   },
   "source": [
    "Asumsi:\n",
    "$$\n",
    "\\bar{\\mathbf{y}} = \\frac{1}{N} \\sum_{n=1}^{N} \\mathbf{y}_{n} = 0\n",
    "$$"
   ]
  },
  {
   "cell_type": "markdown",
   "metadata": {
    "hidden": true
   },
   "source": [
    "Misalkan kita ingin mencari proyeksi ke $D=1$ dimensi, dalam kasus ini hasil proyeksi adalah nilai skalar $x_{n}$ untuk tiap observasi yang diberikan oleh:\n",
    "$$\n",
    "x_{n} = \\mathbf{w}^{\\mathsf{T}} \\mathbf{y}_{n}\n",
    "$$\n",
    "dan variansi $\\sigma^{2}_{x}$ diberikan oleh:\n",
    "$$\n",
    "\\sigma^{2}_{x} = \\frac{1}{N} \\sum_{n=1}^{N} \\left( x_{n} - \\bar{x} \\right)^2\n",
    "$$"
   ]
  },
  {
   "cell_type": "markdown",
   "metadata": {
    "hidden": true
   },
   "source": [
    "Dengan asumsi bahwa $\\bar{y} = 0$:\n",
    "$$\n",
    "\\begin{align}\n",
    "\\bar{x} & = \\frac{1}{N} \\sum_{n=1}^{N} \\mathbf{w}^{\\mathsf{T}} \\mathbf{y}_{n} \\\\\n",
    "& = \\mathbf{w}^{\\mathsf{T}} \\left(\n",
    "\\frac{1}{N} \\sum_{n=1}^{N} \\mathbf{y}_{n}\n",
    "\\right) \\\\\n",
    "& = \\mathbf{w}^{\\mathsf{T}} \\bar{\\mathbf{y}} \\\\\n",
    "& = 0\n",
    "\\end{align}1\n",
    "$$"
   ]
  },
  {
   "cell_type": "markdown",
   "metadata": {
    "hidden": true
   },
   "source": [
    "sehingga variansinya menjadi:\n",
    "$$\n",
    "\\begin{align}\n",
    "\\sigma_{x}^{2} & = \\frac{1}{N} \\sum_{n=1}^{N} x^{2}_{n} \\\\\n",
    "& = \\frac{1}{N} \\sum_{n=1}^{N} \\left(\n",
    "\\mathbf{w}^{\\mathsf{T}} \\mathbf{y}_{n} \\right)^2 \\\\\n",
    "& = \\frac{1}{N} \\sum_{n=1}^{N} \\mathbf{w}^{\\mathsf{T}} \\mathbf{y}_{n}\n",
    "\\mathbf{y}_{n}^{\\mathsf{T}} \\mathbf{w} \\\\\n",
    "& = \\mathbf{w}^{\\mathsf{T}} \n",
    "\\left( \\frac{1}{N} \\sum_{n=1}^{N}\n",
    "\\mathbf{y}_{n} \\mathbf{y}_{n}^{\\mathsf{T}}\n",
    "\\right)\n",
    "\\mathbf{w} \\\\\n",
    "& = \\mathbf{w}^{\\mathsf{T}} \\mathbf{C} \\mathbf{w}\n",
    "\\end{align}\n",
    "$$"
   ]
  },
  {
   "cell_type": "markdown",
   "metadata": {
    "hidden": true
   },
   "source": [
    "$\\mathbf{C}$ adalah matriks kovariansi dari sampel:\n",
    "$$\n",
    "\\mathbf{C} = \\frac{1}{N} \\sum_{n=1}^{N}\n",
    "(\\mathbf{y}_{n} - \\bar{\\mathbf{y}})\n",
    "(\\mathbf{y}_{n} - \\bar{\\mathbf{y}})^{\\mathsf{T}}\n",
    "$$\n",
    "di mana $\\bar{\\mathbf{y}} = 0$ dalam kasus yang kita tinjau.\n"
   ]
  },
  {
   "cell_type": "markdown",
   "metadata": {},
   "source": [
    "# Kode program"
   ]
  },
  {
   "cell_type": "code",
   "execution_count": null,
   "metadata": {},
   "outputs": [],
   "source": [
    "import numpy as np\n",
    "import matplotlib.pyplot as plt"
   ]
  },
  {
   "cell_type": "code",
   "execution_count": null,
   "metadata": {},
   "outputs": [],
   "source": [
    "import IPython\n",
    "IPython.display.set_matplotlib_formats(\"svg\")"
   ]
  },
  {
   "cell_type": "code",
   "execution_count": null,
   "metadata": {},
   "outputs": [],
   "source": [
    "import matplotlib\n",
    "matplotlib.style.use(\"dark_background\")"
   ]
  },
  {
   "cell_type": "markdown",
   "metadata": {},
   "source": [
    "Generate data:"
   ]
  },
  {
   "cell_type": "code",
   "execution_count": null,
   "metadata": {},
   "outputs": [],
   "source": [
    "np.random.seed(1234) # supaya reproducible"
   ]
  },
  {
   "cell_type": "code",
   "execution_count": null,
   "metadata": {},
   "outputs": [],
   "source": [
    "Y_1 = np.random.randn(20,2)\n",
    "Y_2 = np.random.randn(20,2) + 10\n",
    "Y_3 = np.random.randn(20,2) - 10"
   ]
  },
  {
   "cell_type": "code",
   "execution_count": null,
   "metadata": {},
   "outputs": [],
   "source": [
    "Y = np.concatenate( (Y_1, Y_2, Y_3), axis=0 );"
   ]
  },
  {
   "cell_type": "code",
   "execution_count": null,
   "metadata": {},
   "outputs": [],
   "source": [
    "plt.clf()\n",
    "plt.scatter(Y[:,0], Y[:,1])\n",
    "plt.grid()"
   ]
  },
  {
   "cell_type": "markdown",
   "metadata": {},
   "source": [
    "Add random dimensions:"
   ]
  },
  {
   "cell_type": "code",
   "execution_count": null,
   "metadata": {},
   "outputs": [],
   "source": [
    "Ndata = Y.shape[0]\n",
    "Y = np.concatenate( (Y, np.random.randn(Ndata,5)), axis=1 )"
   ]
  },
  {
   "cell_type": "code",
   "execution_count": null,
   "metadata": {},
   "outputs": [],
   "source": [
    "Y.shape"
   ]
  },
  {
   "cell_type": "markdown",
   "metadata": {},
   "source": [
    "Coba plot data pada dimensi lain (tidak penting) yang sudah ditambahkan:"
   ]
  },
  {
   "cell_type": "code",
   "execution_count": null,
   "metadata": {},
   "outputs": [],
   "source": [
    "plt.clf()\n",
    "plt.scatter(Y[:,2], Y[:,6])\n",
    "plt.grid()"
   ]
  },
  {
   "cell_type": "code",
   "execution_count": null,
   "metadata": {},
   "outputs": [],
   "source": []
  },
  {
   "cell_type": "code",
   "execution_count": null,
   "metadata": {},
   "outputs": [],
   "source": [
    "labels = np.concatenate( ([0]*20, [1]*20, [2]*20) )"
   ]
  },
  {
   "cell_type": "code",
   "execution_count": null,
   "metadata": {},
   "outputs": [],
   "source": [
    "labels"
   ]
  },
  {
   "cell_type": "code",
   "execution_count": null,
   "metadata": {},
   "outputs": [],
   "source": [
    "plt.clf()\n",
    "markers = [\"o\", \"s\", \"*\"]\n",
    "for i in range(3):\n",
    "    idx = labels==i\n",
    "    plt.scatter(Y[idx,0], Y[idx,1], marker=markers[i])\n",
    "plt.grid()"
   ]
  },
  {
   "cell_type": "code",
   "execution_count": null,
   "metadata": {},
   "outputs": [],
   "source": [
    "plt.clf()\n",
    "markers = [\"o\", \"s\", \"*\"]\n",
    "for i in range(3):\n",
    "    idx = labels==i\n",
    "    plt.scatter(Y[idx,6], Y[idx,2], marker=markers[i])\n",
    "plt.grid()"
   ]
  },
  {
   "cell_type": "code",
   "execution_count": null,
   "metadata": {},
   "outputs": [],
   "source": []
  },
  {
   "cell_type": "markdown",
   "metadata": {},
   "source": [
    "Hitung rata-rata: $\\bar{\\mathbf{y}}$, gunakan metode `np.mean`."
   ]
  },
  {
   "cell_type": "code",
   "execution_count": null,
   "metadata": {},
   "outputs": [],
   "source": [
    "ybar = np.mean(Y,axis=0)\n",
    "ybar"
   ]
  },
  {
   "cell_type": "markdown",
   "metadata": {},
   "source": [
    "Geser data terhadap rata-rata:"
   ]
  },
  {
   "cell_type": "code",
   "execution_count": null,
   "metadata": {},
   "outputs": [],
   "source": [
    "Yshifted = Y - ybar"
   ]
  },
  {
   "cell_type": "markdown",
   "metadata": {},
   "source": [
    "Rata-rata dari data yang sekarang seharusnya adalah nol (vektor)."
   ]
  },
  {
   "cell_type": "code",
   "execution_count": null,
   "metadata": {},
   "outputs": [],
   "source": [
    "np.mean(Yshifted,axis=0)"
   ]
  },
  {
   "cell_type": "markdown",
   "metadata": {},
   "source": [
    "Hitung matriks kovariansi: $\\mathbf{C}$\n",
    "\n",
    "$$\n",
    "\\mathbf{C} = \\frac{1}{N} \\mathbf{Y}^{\\mathsf{T}} \\mathbf{Y}\n",
    "$$"
   ]
  },
  {
   "cell_type": "code",
   "execution_count": null,
   "metadata": {},
   "outputs": [],
   "source": [
    "N = Yshifted.shape[0]\n",
    "N"
   ]
  },
  {
   "cell_type": "code",
   "execution_count": null,
   "metadata": {},
   "outputs": [],
   "source": [
    "C = np.matmul( Yshifted.transpose(), Yshifted )/N"
   ]
  },
  {
   "cell_type": "code",
   "execution_count": null,
   "metadata": {},
   "outputs": [],
   "source": [
    "C.shape"
   ]
  },
  {
   "cell_type": "markdown",
   "metadata": {},
   "source": [
    "Hitung pasangan eigen dari matriks kovariansi:"
   ]
  },
  {
   "cell_type": "code",
   "execution_count": null,
   "metadata": {},
   "outputs": [],
   "source": [
    "λ_unsrt, w_unsrt = np.linalg.eig(C)"
   ]
  },
  {
   "cell_type": "code",
   "execution_count": null,
   "metadata": {},
   "outputs": [],
   "source": [
    "λ_unsrt"
   ]
  },
  {
   "cell_type": "code",
   "execution_count": null,
   "metadata": {},
   "outputs": [],
   "source": [
    "w_unsrt.shape"
   ]
  },
  {
   "cell_type": "markdown",
   "metadata": {},
   "source": [
    "(Lakukan sort jika perlu)"
   ]
  },
  {
   "cell_type": "code",
   "execution_count": null,
   "metadata": {},
   "outputs": [],
   "source": [
    "idx_sorted = np.argsort(λ_unsrt)[::-1]"
   ]
  },
  {
   "cell_type": "code",
   "execution_count": null,
   "metadata": {},
   "outputs": [],
   "source": [
    "idx_sorted"
   ]
  },
  {
   "cell_type": "code",
   "execution_count": null,
   "metadata": {},
   "outputs": [],
   "source": [
    "λ = λ_unsrt[idx_sorted]"
   ]
  },
  {
   "cell_type": "markdown",
   "metadata": {},
   "source": [
    "Eigenvalue yang sudah disort:"
   ]
  },
  {
   "cell_type": "code",
   "execution_count": null,
   "metadata": {},
   "outputs": [],
   "source": [
    "λ"
   ]
  },
  {
   "cell_type": "markdown",
   "metadata": {},
   "source": [
    "Eigenvektor yang sudah disort:"
   ]
  },
  {
   "cell_type": "code",
   "execution_count": null,
   "metadata": {},
   "outputs": [],
   "source": [
    "w = w_unsrt[:,idx_sorted]"
   ]
  },
  {
   "cell_type": "markdown",
   "metadata": {},
   "source": [
    "Perbandingan nilai eigen (variansi)"
   ]
  },
  {
   "cell_type": "code",
   "execution_count": null,
   "metadata": {},
   "outputs": [],
   "source": [
    "plt.bar(range(len(λ)), λ)\n",
    "plt.grid()"
   ]
  },
  {
   "cell_type": "markdown",
   "metadata": {},
   "source": [
    "Lakukan proyeksi:\n",
    "\n",
    "$$\n",
    "\\mathbf{X} = \\mathbf{Y} \\mathbf{W}\n",
    "$$"
   ]
  },
  {
   "cell_type": "markdown",
   "metadata": {},
   "source": [
    "Matrix Y: (60,7), jumlah data 60, jumlah fitur 7\n",
    "\n",
    "Matrix W: (7,D), D: jumlah dimensi baru\n",
    "\n",
    "Matrix X: (60,D)"
   ]
  },
  {
   "cell_type": "markdown",
   "metadata": {},
   "source": [
    "Proyeksikan data ke dua dimensi pertama:"
   ]
  },
  {
   "cell_type": "code",
   "execution_count": null,
   "metadata": {},
   "outputs": [],
   "source": [
    "Yproj = np.matmul(Y, w[:,0:2] )"
   ]
  },
  {
   "cell_type": "code",
   "execution_count": null,
   "metadata": {},
   "outputs": [],
   "source": [
    "Yproj.shape"
   ]
  },
  {
   "cell_type": "code",
   "execution_count": null,
   "metadata": {},
   "outputs": [],
   "source": [
    "plt.scatter(Yproj[:,0], Yproj[:,1])\n",
    "plt.xlabel(\"1st proj dim\")\n",
    "plt.ylabel(\"2nd proj dim\")\n",
    "plt.grid()"
   ]
  },
  {
   "cell_type": "markdown",
   "metadata": {},
   "source": [
    "Hanya memproyeksikan ke 1st proj dim (nilai eigen paling besar):"
   ]
  },
  {
   "cell_type": "code",
   "execution_count": null,
   "metadata": {},
   "outputs": [],
   "source": [
    "Yproj_1 = np.matmul(Y, w[:,0:1] )\n",
    "Yproj_1.shape"
   ]
  },
  {
   "cell_type": "code",
   "execution_count": null,
   "metadata": {},
   "outputs": [],
   "source": [
    "plt.plot(Yproj_1, np.ones(Yproj_1.shape[0]), marker=\"o\", lw=0)\n",
    "plt.xlabel(\"proj dim 1st\")"
   ]
  },
  {
   "cell_type": "markdown",
   "metadata": {},
   "source": [
    "**NOTE: sumbu x bukan menyatakan fitur pertama (desc1), namum fitur (dimensi) yang sudah ditransformasi.**"
   ]
  },
  {
   "cell_type": "markdown",
   "metadata": {},
   "source": [
    "Bagaimana jika data diproyeksi ke dimensi proyeksi ke-dua saja?"
   ]
  },
  {
   "cell_type": "code",
   "execution_count": null,
   "metadata": {},
   "outputs": [],
   "source": [
    "Yproj_2 = np.matmul(Y, w[:,1] )\n",
    "print(Yproj_2.shape)\n",
    "plt.plot(Yproj_2, np.ones(Yproj_2.shape[0]), marker=\"o\", lw=0)"
   ]
  },
  {
   "cell_type": "markdown",
   "metadata": {},
   "source": []
  },
  {
   "cell_type": "markdown",
   "metadata": {
    "heading_collapsed": true
   },
   "source": [
    "# Pair plot"
   ]
  },
  {
   "cell_type": "code",
   "execution_count": null,
   "metadata": {
    "hidden": true
   },
   "outputs": [],
   "source": [
    "import pandas as pd"
   ]
  },
  {
   "cell_type": "code",
   "execution_count": null,
   "metadata": {
    "hidden": true
   },
   "outputs": [],
   "source": [
    "import seaborn as sns\n",
    "sns.set()"
   ]
  },
  {
   "cell_type": "code",
   "execution_count": null,
   "metadata": {
    "hidden": true
   },
   "outputs": [],
   "source": [
    "labelsString = []\n",
    "for i in range(len(labels)):\n",
    "    labelsString.append(\"class\"+str(labels[i]))"
   ]
  },
  {
   "cell_type": "code",
   "execution_count": null,
   "metadata": {
    "hidden": true
   },
   "outputs": [],
   "source": [
    "columns = [\"desc\"+str(i) for i in range(1,8)]\n",
    "columns"
   ]
  },
  {
   "cell_type": "code",
   "execution_count": null,
   "metadata": {
    "hidden": true
   },
   "outputs": [],
   "source": [
    "Ypd = pd.DataFrame(Y, columns=columns)"
   ]
  },
  {
   "cell_type": "code",
   "execution_count": null,
   "metadata": {
    "hidden": true
   },
   "outputs": [],
   "source": [
    "labelsDF = pd.DataFrame(labelsString, columns=[\"class\"])\n",
    "labelsDF.head()"
   ]
  },
  {
   "cell_type": "code",
   "execution_count": null,
   "metadata": {
    "hidden": true
   },
   "outputs": [],
   "source": [
    "YDF = pd.merge(Ypd, labelsDF, left_index=True, right_index=True)\n",
    "YDF.head()"
   ]
  },
  {
   "cell_type": "code",
   "execution_count": null,
   "metadata": {
    "hidden": true
   },
   "outputs": [],
   "source": [
    "columns = [\"desc\"+str(i) for i in range(1,8)]\n",
    "columns"
   ]
  },
  {
   "cell_type": "code",
   "execution_count": null,
   "metadata": {
    "hidden": true
   },
   "outputs": [],
   "source": [
    "sns.pairplot(YDF)"
   ]
  },
  {
   "cell_type": "code",
   "execution_count": null,
   "metadata": {
    "hidden": true
   },
   "outputs": [],
   "source": [
    "sns.pairplot(YDF, hue=\"class\")"
   ]
  },
  {
   "cell_type": "code",
   "execution_count": null,
   "metadata": {
    "hidden": true
   },
   "outputs": [],
   "source": [
    "YDF.head()"
   ]
  },
  {
   "cell_type": "code",
   "execution_count": null,
   "metadata": {
    "hidden": true,
    "scrolled": true
   },
   "outputs": [],
   "source": [
    "YDF.loc[:,:\"desc7\"].head()"
   ]
  },
  {
   "cell_type": "markdown",
   "metadata": {},
   "source": [
    "# Coba lagi:"
   ]
  },
  {
   "cell_type": "code",
   "execution_count": null,
   "metadata": {},
   "outputs": [],
   "source": [
    "Y = []"
   ]
  },
  {
   "cell_type": "code",
   "execution_count": null,
   "metadata": {},
   "outputs": [],
   "source": [
    "Y_1 = np.random.randn(20,2)\n",
    "Y_2 = np.random.randn(20,2) + 10\n",
    "Y_3 = np.random.randn(20,2) - 10\n",
    "Y_4 = np.random.randn(20,2) + np.array([-10,10])\n",
    "Y_5 = np.random.randn(20,2) + np.array([10,-10])"
   ]
  },
  {
   "cell_type": "code",
   "execution_count": null,
   "metadata": {},
   "outputs": [],
   "source": [
    "Y = np.concatenate( (Y_1, Y_2, Y_3, Y_4, Y_5), axis=0 );"
   ]
  },
  {
   "cell_type": "code",
   "execution_count": null,
   "metadata": {
    "scrolled": true
   },
   "outputs": [],
   "source": [
    "plt.clf()\n",
    "plt.scatter(Y[:,0], Y[:,1])"
   ]
  },
  {
   "cell_type": "code",
   "execution_count": null,
   "metadata": {},
   "outputs": [],
   "source": [
    "Ndata = Y.shape[0]\n",
    "Y = np.concatenate( (Y, np.random.randn(Ndata,5)), axis=1 )"
   ]
  },
  {
   "cell_type": "code",
   "execution_count": null,
   "metadata": {},
   "outputs": [],
   "source": [
    "ybar = np.mean(Y,axis=0)\n",
    "ybar"
   ]
  },
  {
   "cell_type": "code",
   "execution_count": null,
   "metadata": {},
   "outputs": [],
   "source": [
    "Yshifted = Y - ybar"
   ]
  },
  {
   "cell_type": "code",
   "execution_count": null,
   "metadata": {},
   "outputs": [],
   "source": [
    "np.mean(Yshifted,axis=0)"
   ]
  },
  {
   "cell_type": "code",
   "execution_count": null,
   "metadata": {},
   "outputs": [],
   "source": [
    "N = Yshifted.shape[0]\n",
    "N"
   ]
  },
  {
   "cell_type": "code",
   "execution_count": null,
   "metadata": {},
   "outputs": [],
   "source": [
    "C = np.matmul( Yshifted.transpose(), Yshifted )/N"
   ]
  },
  {
   "cell_type": "code",
   "execution_count": null,
   "metadata": {},
   "outputs": [],
   "source": [
    "λ_unsrt, w_unsrt = np.linalg.eig(C)"
   ]
  },
  {
   "cell_type": "code",
   "execution_count": null,
   "metadata": {},
   "outputs": [],
   "source": [
    "λ_unsrt"
   ]
  },
  {
   "cell_type": "code",
   "execution_count": null,
   "metadata": {},
   "outputs": [],
   "source": [
    "idx_sorted = np.argsort(λ_unsrt)[::-1]\n",
    "idx_sorted"
   ]
  },
  {
   "cell_type": "code",
   "execution_count": null,
   "metadata": {},
   "outputs": [],
   "source": [
    "W = w_unsrt[:,idx_sorted]\n",
    "λ = λ_unsrt[idx_sorted]"
   ]
  },
  {
   "cell_type": "code",
   "execution_count": null,
   "metadata": {},
   "outputs": [],
   "source": [
    "λ"
   ]
  },
  {
   "cell_type": "code",
   "execution_count": null,
   "metadata": {},
   "outputs": [],
   "source": [
    "plt.bar(np.arange(len(λ)), λ)"
   ]
  },
  {
   "cell_type": "code",
   "execution_count": null,
   "metadata": {},
   "outputs": [],
   "source": []
  },
  {
   "cell_type": "code",
   "execution_count": null,
   "metadata": {},
   "outputs": [],
   "source": []
  },
  {
   "cell_type": "code",
   "execution_count": null,
   "metadata": {},
   "outputs": [],
   "source": []
  }
 ],
 "metadata": {
  "kernelspec": {
   "display_name": "Python 3",
   "language": "python",
   "name": "python3"
  },
  "language_info": {
   "codemirror_mode": {
    "name": "ipython",
    "version": 3
   },
   "file_extension": ".py",
   "mimetype": "text/x-python",
   "name": "python",
   "nbconvert_exporter": "python",
   "pygments_lexer": "ipython3",
   "version": "3.8.3"
  }
 },
 "nbformat": 4,
 "nbformat_minor": 4
}
