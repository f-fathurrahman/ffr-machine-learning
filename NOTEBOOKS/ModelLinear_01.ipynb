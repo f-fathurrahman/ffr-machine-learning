{
 "cells": [
  {
   "cell_type": "markdown",
   "metadata": {},
   "source": [
    "<h1>Model Linear: Pendekatan Kuadrat Terkecil</h1>"
   ]
  },
  {
   "cell_type": "markdown",
   "metadata": {},
   "source": [
    "Diberikan pasangan data $(x,t)$ di mana $x$ adalah input dan $t$ adalah target, model linear dengan parameter $(w_0, w_1)$ dapat dinyatakan sebagai:\n",
    "\n",
    "$$\n",
    "t = f(x; w_0, w_1) = w_0 + w_1 x\n",
    "$$"
   ]
  },
  {
   "cell_type": "markdown",
   "metadata": {},
   "source": [
    "Untuk memilih model dengan parameter $(w0, w_1)$ yang paling baik, kita perlu mendefisinikan seberapa baik model tersebut.\n",
    "Beda kuadrat antara target dan keluaran dari model:\n",
    "$$\n",
    "\\mathcal{L}_n = \\left( t_n - f(x_n; w_0, w_1) \\right)^2\n",
    "$$\n",
    "\n",
    "Untuk semua titik data:\n",
    "$$\n",
    "\\mathcal{L} = \\frac{1}{N} \\sum_{n=1}^{N} \\mathcal{L}_n\n",
    "$$"
   ]
  },
  {
   "cell_type": "markdown",
   "metadata": {},
   "source": [
    "$$\n",
    "\\arg\\min_{w_{0},w_{1}} \\frac{1}{N} \\sum_{n=1}^{N} \\mathcal{L}_{n}\n",
    "$$"
   ]
  },
  {
   "cell_type": "markdown",
   "metadata": {},
   "source": [
    "$$\n",
    "\\begin{align}\n",
    "\\mathcal{L} & = \\frac{1}{N} \\sum_{n=1}^{N} \\left( t_n - (w_0 + w_1 x_{n}) \\right)^2 \\\\\n",
    "& = \\frac{1}{N} \\sum_{n=1}^{N} \\left( w_1^2 x_n^2 + 2w_{1}x_{n}(w_0 - t_n) + w_0^2 - 2w_0 t_n + t_n^2 \\right)\n",
    "\\end{align}\n",
    "$$"
   ]
  },
  {
   "cell_type": "markdown",
   "metadata": {},
   "source": [
    "$$\n",
    "\\frac{\\partial\\mathcal{L}}{\\partial w_1} = 2w_1 \\frac{1}{N} \\left( \\sum_{n=1}^{N} x_n^2 \\right) +\n",
    "\\frac{2}{N} \\left( \\sum_{n=1}^{N} x_{n} (w_0 - t_n) \\right)\n",
    "$$"
   ]
  },
  {
   "cell_type": "markdown",
   "metadata": {},
   "source": [
    "$$\n",
    "\\frac{\\partial \\mathcal{L}}{\\partial w_0} = 2w_0 + 2w_1 \\frac{1}{N} \\left( \\sum_{n=1}^{N} x_n \\right) -\n",
    "\\frac{2}{N} \\left( \\sum_{n=1}^{N} t_n \\right)\n",
    "$$"
   ]
  },
  {
   "cell_type": "markdown",
   "metadata": {},
   "source": [
    "# Menggunakan notasi matriks dan vektor"
   ]
  },
  {
   "cell_type": "markdown",
   "metadata": {},
   "source": [
    "Dengan mendefinisikan input vektor\n",
    "$$\n",
    "\\mathbf{x}_{n} = \\begin{bmatrix}\n",
    "1 \\\\\n",
    "x_{n}\n",
    "\\end{bmatrix}\n",
    "$$\n",
    "dan parameter model\n",
    "$$\n",
    "\\mathbf{w} = \\begin{bmatrix}\n",
    "w_{0} \\\\\n",
    "w_{1}\n",
    "\\end{bmatrix}\n",
    "$$\n",
    "Model:\n",
    "$$\n",
    "f(x_n; w_0, w_1) = \\mathbf{w}^{\\mathsf{T}} \\mathbf{x}_{n}\n",
    "$$\n"
   ]
  },
  {
   "cell_type": "markdown",
   "metadata": {},
   "source": [
    "Loss function:\n",
    "$$\n",
    "\\mathcal{L} = \\frac{1}{N} \\sum_{n=1}^{N} \\left( t_{n} - \\mathbf{w}^{\\mathsf{T}}\n",
    "\\mathbf{x}_{n} \\right)^2\n",
    "$$\n"
   ]
  },
  {
   "cell_type": "markdown",
   "metadata": {},
   "source": [
    "$$\n",
    "\\mathbf{X} = \\begin{bmatrix}\n",
    "\\mathbf{x}^{\\mathsf{T}}_{1} \\\\\n",
    "\\mathbf{x}^{\\mathsf{T}}_{2} \\\\\n",
    "\\vdots \\\\\n",
    "\\mathbf{x}^{\\mathsf{T}}_{N}\n",
    "\\end{bmatrix} =\n",
    "\\begin{bmatrix}\n",
    "1 & x_{1} \\\\\n",
    "1 & x_{2} \\\\\n",
    "\\vdots & \\vdots \\\\\n",
    "1 & x_{N} \\\\\n",
    "\\end{bmatrix}\n",
    "$$\n",
    "\n",
    "Vektor target:\n",
    "$$\n",
    "t = \\begin{bmatrix}\n",
    "t_1 \\\\\n",
    "t_2 \\\\\n",
    "\\vdots \\\\\n",
    "t_N\n",
    "\\end{bmatrix}\n",
    "$$"
   ]
  },
  {
   "cell_type": "markdown",
   "metadata": {},
   "source": [
    "$$\n",
    "\\mathcal{L} = \\frac{1}{N} \\left( \\mathbf{t} - \\mathbf{Xw} \\right)^{\\mathsf{T}}\n",
    "\\left( \\mathbf{t} - \\mathbf{Xw} \\right)\n",
    "$$"
   ]
  },
  {
   "cell_type": "markdown",
   "metadata": {},
   "source": [
    "$$\n",
    "\\begin{align}\n",
    "\\mathcal{L} & = \\frac{1}{N} \\left(\n",
    "\\mathbf{t}^{\\mathsf{T}} \\mathbf{t} +\n",
    "\\left(\\mathbf{Xw}\\right)^{\\mathsf{T}} \\mathbf{Xw} - \n",
    "\\mathbf{t}\\mathbf{Xw} -\n",
    "\\left(\\mathbf{Xw}\\right)^{\\mathsf{T}} \\mathbf{t}\n",
    "\\right) \\\\\n",
    "& = \\frac{1}{N} \\left(\n",
    "\\mathbf{w}^{\\mathsf{T}} \\mathbf{X}^{\\mathsf{T}} \\mathbf{X} \\mathbf{w} -\n",
    "2 \\mathbf{w}^{\\mathsf{T}} \\mathbf{X}^{\\mathsf{T}}\\mathbf{t} +\n",
    "\\mathbf{t}^{\\mathsf{T}} \\mathbf{t}\n",
    "\\right)\n",
    "\\end{align}\n",
    "$$"
   ]
  },
  {
   "cell_type": "markdown",
   "metadata": {},
   "source": [
    "$$\n",
    "\\frac{\\partial \\mathcal{L}}{\\partial \\mathbf{w}} =\n",
    "\\frac{2}{N} \\left( \\mathbf{X}^{\\mathsf{T}} \\mathbf{Xw} - \\mathbf{X}^{\\mathsf{T}}\\mathbf{t} \\right)\n",
    "$$"
   ]
  },
  {
   "cell_type": "markdown",
   "metadata": {},
   "source": [
    "$$\n",
    "\\begin{align}\n",
    "\\mathbf{X}^{\\mathsf{T}} \\mathbf{Xw} & = \\mathbf{X}^{\\mathsf{T}} \\mathbf{t} \\\\\n",
    "\\mathbf{w} & = \\left(\\mathbf{X}^{\\mathsf{T}}\\mathbf{X} \\right) \\mathbf{X}^{\\mathsf{T}} \\mathbf{t}\n",
    "\\end{align}\n",
    "$$"
   ]
  },
  {
   "cell_type": "code",
   "execution_count": null,
   "metadata": {},
   "outputs": [],
   "source": []
  },
  {
   "cell_type": "code",
   "execution_count": null,
   "metadata": {},
   "outputs": [],
   "source": []
  }
 ],
 "metadata": {
  "kernelspec": {
   "display_name": "Python 3",
   "language": "python",
   "name": "python3"
  },
  "language_info": {
   "codemirror_mode": {
    "name": "ipython",
    "version": 3
   },
   "file_extension": ".py",
   "mimetype": "text/x-python",
   "name": "python",
   "nbconvert_exporter": "python",
   "pygments_lexer": "ipython3",
   "version": "3.7.3"
  }
 },
 "nbformat": 4,
 "nbformat_minor": 2
}
